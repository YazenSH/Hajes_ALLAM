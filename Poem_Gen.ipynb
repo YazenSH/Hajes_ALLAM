{
 "cells": [
  {
   "cell_type": "markdown",
   "metadata": {},
   "source": [
    "![image](https://raw.githubusercontent.com/IBM/watson-machine-learning-samples/master/cloud/notebooks/headers/watsonx-Prompt_Lab-Notebook.png)\n",
    "# Prompt Notebook with Chat - Prompt Lab Notebook v1.1.0\n",
    "This notebook contains steps and code to demonstrate inferencing of prompts\n",
    "generated in Prompt Lab in watsonx.ai with a chat format. It introduces Python API commands\n",
    "for authentication using API key and prompt inferencing using WML API.\n",
    "\n",
    "**Note:** Notebook code generated using Prompt Lab will execute successfully.\n",
    "If code is modified or reordered, there is no guarantee it will successfully execute.\n",
    "For details, see: <a href=\"/docs/content/wsj/analyze-data/fm-prompt-save.html?context=wx\" target=\"_blank\">Saving your work in Prompt Lab as a notebook.</a>\n",
    "\n",
    "Some familiarity with Python is helpful. This notebook uses Python 3.10.\n",
    "\n",
    "## Notebook goals\n",
    "The learning goals of this notebook are:\n",
    "\n",
    "* Defining a Python function for obtaining credentials from the IBM Cloud personal API key\n",
    "* Defining parameters of the Model object\n",
    "* Using the Model object to generate response using the defined model id, parameters and the prompt input\n",
    "\n",
    "# Setup"
   ]
  },
  {
   "cell_type": "markdown",
   "metadata": {},
   "source": [
    "## watsonx API connection\n",
    "This cell defines the credentials required to work with watsonx API for Foundation\n",
    "Model inferencing.\n",
    "\n",
    "**Action:** Provide the IBM Cloud personal API key. For details, see\n",
    "<a href=\"https://cloud.ibm.com/docs/account?topic=account-userapikey&interface=ui\" target=\"_blank\">documentation</a>.\n"
   ]
  },
  {
   "cell_type": "code",
   "execution_count": 1,
   "metadata": {},
   "outputs": [
    {
     "name": "stdout",
     "output_type": "stream",
     "text": [
      "Works\n"
     ]
    }
   ],
   "source": [
    "print(\"Works\")"
   ]
  },
  {
   "cell_type": "code",
   "execution_count": 2,
   "metadata": {},
   "outputs": [],
   "source": [
    "import os\n",
    "import pandas as pd\n",
    "import ibm_boto3\n",
    "from ibm_botocore.client import Config\n",
    "import torch\n",
    "from getpass import getpass\n",
    "import types\n",
    "def get_credentials():\n",
    "\treturn {\n",
    "\t\t\"url\" : \"https://eu-de.ml.cloud.ibm.com\",\n",
    "\t\t\"apikey\" : getpass(\"Please enter your api key (hit enter): \")\n",
    "\t}\n"
   ]
  },
  {
   "cell_type": "markdown",
   "metadata": {},
   "source": [
    "# Inferencing\n",
    "This cell demonstrated how we can use the model object as well as the created access token\n",
    "to pair it with parameters and input string to obtain\n",
    "the response from the the selected foundation model.\n",
    "\n",
    "## Defining the model id\n",
    "We need to specify model id that will be used for inferencing:\n"
   ]
  },
  {
   "cell_type": "code",
   "execution_count": 3,
   "metadata": {},
   "outputs": [],
   "source": [
    "model_id = \"sdaia/allam-1-13b-instruct\"\n"
   ]
  },
  {
   "cell_type": "markdown",
   "metadata": {},
   "source": [
    "## Defining the model parameters\n",
    "We need to provide a set of model parameters that will influence the\n",
    "result:"
   ]
  },
  {
   "cell_type": "code",
   "execution_count": 40,
   "metadata": {},
   "outputs": [],
   "source": [
    "parameters = {\n",
    "    \"decoding_method\": \"greedy\",\n",
    "    \"max_new_tokens\": 800,\n",
    "    \"repetition_penalty\": 1.7,\n",
    "    'task': 'text-completion',\n",
    "    'temperature': 0.9,\n",
    "    'top_k': 50,\n",
    "    'top_p': 0.9,\n",
    "}\n"
   ]
  },
  {
   "cell_type": "markdown",
   "metadata": {},
   "source": [
    "## Defining the project id or space id\n",
    "The API requires project id or space id that provides the context for the call. We will obtain\n",
    "the id from the project or space in which this notebook runs:"
   ]
  },
  {
   "cell_type": "code",
   "execution_count": 41,
   "metadata": {},
   "outputs": [],
   "source": [
    "project_id = os.getenv(\"PROJECT_ID\")\n",
    "space_id = os.getenv(\"SPACE_ID\")\n"
   ]
  },
  {
   "cell_type": "markdown",
   "metadata": {},
   "source": [
    "## Defining the Model object\n",
    "We need to define the Model object using the properties we defined so far:\n"
   ]
  },
  {
   "cell_type": "code",
   "execution_count": 45,
   "metadata": {},
   "outputs": [
    {
     "name": "stdout",
     "output_type": "stream",
     "text": [
      "Please enter your api key (hit enter): ········\n"
     ]
    }
   ],
   "source": [
    "# Import the IBM Watsonx AI Model class\n",
    "from ibm_watsonx_ai.foundation_models import Model\n",
    "\n",
    "# Initialize the IBM Watsonx AI model\n",
    "model = Model(\n",
    "    model_id=model_id,\n",
    "    params=parameters,\n",
    "    credentials=get_credentials(),\n",
    "    project_id=project_id,\n",
    "    space_id=space_id\n",
    ")\n",
    "\n",
    "#lr0uM4vWyU57-E5JFdxIVmn0yoTEVbElljjOwEJ7ZG5z"
   ]
  },
  {
   "cell_type": "code",
   "execution_count": 47,
   "metadata": {},
   "outputs": [
    {
     "name": "stdout",
     "output_type": "stream",
     "text": [
      "                                             Content\n",
      "0  في بالي من كلام الناس كل اللي في بال الناس\\nجم...\n",
      "1  إنفجار..\\n.\\n.\\nإعتقال.\\n.\\n.\\nإنتحار..\\n.\\n.\\...\n",
      "2  جيتك ونظراتي مفاتيح الأفكار\\nلي فيك نظرة غير م...\n",
      "3  محتاج\\nوالله عشان أحيا..\\nمحتاج لي شيّ يقتل حي...\n",
      "4  هذا الصباح.. إحباط. مظلم, مختنق فيه الصباح\\nوأ...\n"
     ]
    }
   ],
   "source": [
    "# IBM Cloud Object Storage client setup for loading dataset\n",
    "cos_client = ibm_boto3.client(\n",
    "    service_name='s3',\n",
    "    ibm_api_key_id='zjce4m8BHwXXsZdoZUEeI390wl8-6Kc-mgmYDU6oDJq1',\n",
    "    ibm_auth_endpoint=\"https://iam.cloud.ibm.com/identity/token\",\n",
    "    config=Config(signature_version='oauth'),\n",
    "    endpoint_url='https://s3.direct.eu-de.cloud-object-storage.appdomain.cloud'\n",
    ")\n",
    "\n",
    "bucket = 'allam2-donotdelete-pr-ifdnbaat2riscd'\n",
    "object_key = 'data.csv'\n",
    "\n",
    "# Get the dataset from Cloud Object Storage\n",
    "body = cos_client.get_object(Bucket=bucket, Key=object_key)['Body']\n",
    "\n",
    "# Ensure the body is iterable so pandas can read it as a file-like object\n",
    "if not hasattr(body, \"__iter__\"):\n",
    "    def __iter__(self): return 0\n",
    "    body.__iter__ = types.MethodType(__iter__, body)\n",
    "\n",
    "# Read the Excel file\n",
    "data = pd.read_csv(body)\n",
    "\n",
    "# Display the first few rows to verify\n",
    "print(data.head())"
   ]
  },
  {
   "cell_type": "code",
   "execution_count": 48,
   "metadata": {},
   "outputs": [
    {
     "name": "stdout",
     "output_type": "stream",
     "text": [
      "Top 1 Similar Poem (Score: 0.10915908045782236):\n",
      "شاعر تِغرد جوف صدره سكاكين\n",
      "بَرْد التشرد في شوارع مدينه\n",
      "أَنْحَتْ على رمل الأماكن ذِرَاعَين\n",
      "وَاْحطب من أضغاث التمني غبينه\n",
      "صوتي تلاوة صوت في نبرة آمين\n",
      "موتي وطن سور المقابر يدينه\n",
      "صليت في مفرق دعاء المعزين\n",
      "دافي بلون أَغْمَاضَة الياسمينه\n",
      "شفني أقول : الليل حائط محبين\n",
      "شفني ألون ف الفضا لي سكينه\n",
      "أركض ورى تَكّ المطر يابس العين\n",
      "وأنفض غبار الفقد عن وجد طينه !!\n",
      "كان العطش عصفور نبت المساكين\n",
      "وأمي خشوع السجدتين الحزينه\n",
      "أعلك سواك أصحاب تبغ ورياحين\n",
      "في دفتر أوجاع القلم ظل أنينه\n",
      "الدرب تُربه سلك شائك وتخمين\n",
      "والبحر نَاسِك في شراع السفينه\n",
      "شفني أجر أذيال حلمي على وين ؟!\n",
      "ضايق أجوب الليل وأسكن عرينه\n",
      "عالق وروحي ف الحطب بين فاسين\n",
      "شف لي وطن وأغفو بحنطة حنينه\n",
      "حاصل عذوق الغيم ما جاب وافين\n",
      "والموت في بحة رجائي غبينه\n",
      "ما هي غريبة لا أنطفى فيدي اللين\n",
      "قل للورق شاعرك سافه سنينه\n",
      "\n",
      "Top 2 Similar Poem (Score: 0.0806150334802618):\n",
      "معك ليلِ طويل وقلب تاه بهاجسك مافاق.\n",
      "وايقْض لك وجل شاعر خذته اردان ديمومة\n",
      "تمناك الشعر ليلة نزف لك في مهب فراق\n",
      "سأل سكينك البارد عن اول واخر علومه\n",
      "انا يامدلهم العكش احن بغيبتك واشتاق\n",
      "بكالك موطنٍَ يبست نخيله وانكره قومه\n",
      "ترقب لك من ايام السهر مجنونك الخفاق\n",
      "هذلُك الليل بلسان الظلام وغيبة نجومه\n",
      "من ايامك ومرباع السنين وخده الرقراق\n",
      "وعد رجال حدّته السنين وضاقت هدومه\n",
      "شكالك بوح مايمسي بدونك واشتكالك ساق\n",
      "امانيّك تبي قومة رجا متثاقل القومه\n",
      "مشاريهك على صدر تخبره مايضيق وضاق\n",
      "بقايا موطنك غصنٍ يبس واسوار مثلومه\n",
      "تناهيدك على باله وذاق من الالم ما ذاق\n",
      "يهج القلب في ضيقة مسا ..وانهاه وآلومه\n",
      "مدى. مالك مدى وانت المزون بذاكرة عشاق\n",
      "وانا خابر هدب عينك يحن ويغرق بيومه\n",
      "كثر ماطاحت اوراق الخريف وللقصيد اوراق\n",
      "عرفت البوح واشباه الاوادم عرفت همومه\n",
      "وانا مليت مسباح الملل واستاذن البراق\n",
      "يبشرني بميلاد المطر وبحفلة غيومه\n",
      "بعيد وذكرياتك ناس وانهار وحبر واشواق\n",
      "غريبة ارض مايمشي عليها ناس مزحومه\n",
      "\n",
      "Top 3 Similar Poem (Score: 0.0806150334802618):\n",
      "معك ليلِ طويل وقلب تاه بهاجسك مافاق.\n",
      "وايقْض لك وجل شاعر خذته اردان ديمومة\n",
      "تمناك الشعر ليلة نزف لك في مهب فراق\n",
      "سأل سكينك البارد عن اول واخر علومه\n",
      "انا يامدلهم العكش احن بغيبتك واشتاق\n",
      "بكالك موطنٍَ يبست نخيله وانكره قومه\n",
      "ترقب لك من ايام السهر مجنونك الخفاق\n",
      "هذلُك الليل بلسان الظلام وغيبة نجومه\n",
      "من ايامك ومرباع السنين وخده الرقراق\n",
      "وعد رجال حدّته السنين وضاقت هدومه\n",
      "شكالك بوح مايمسي بدونك واشتكالك ساق\n",
      "امانيّك تبي قومة رجا متثاقل القومه\n",
      "مشاريهك على صدر تخبره مايضيق وضاق\n",
      "بقايا موطنك غصنٍ يبس واسوار مثلومه\n",
      "تناهيدك على باله وذاق من الالم ما ذاق\n",
      "يهج القلب في ضيقة مسا ..وانهاه وآلومه\n",
      "مدى. مالك مدى وانت المزون بذاكرة عشاق\n",
      "وانا خابر هدب عينك يحن ويغرق بيومه\n",
      "كثر ماطاحت اوراق الخريف وللقصيد اوراق\n",
      "عرفت البوح واشباه الاوادم عرفت همومه\n",
      "وانا مليت مسباح الملل واستاذن البراق\n",
      "يبشرني بميلاد المطر وبحفلة غيومه\n",
      "بعيد وذكرياتك ناس وانهار وحبر واشواق\n",
      "غريبة ارض مايمشي عليها ناس مزحومه\n",
      "\n"
     ]
    }
   ],
   "source": [
    "from sklearn.metrics.pairwise import cosine_similarity\n",
    "from sklearn.feature_extraction.text import TfidfVectorizer\n",
    "import pandas as pd\n",
    "\n",
    "# Convert the data column to a list of strings for processing\n",
    "data_list = data['Content'].tolist()\n",
    "\n",
    "# Combine data with user_input\n",
    "user_input = \"الليل المطر\"\n",
    "combined_data = data_list + [user_input]\n",
    "\n",
    "# Fit the TfidfVectorizer on the combined data\n",
    "vectorizer = TfidfVectorizer()\n",
    "tfidf_matrix = vectorizer.fit_transform(combined_data)\n",
    "\n",
    "# Get the TF-IDF vector for the last document, which is user_input\n",
    "user_input_tfidf = tfidf_matrix[-1]\n",
    "\n",
    "# Calculate cosine similarity between user_input and each document in data\n",
    "similarities = cosine_similarity(user_input_tfidf, tfidf_matrix[:-1]).flatten()\n",
    "\n",
    "# Get the indices of the top 3 most similar poems\n",
    "top_3_indices = similarities.argsort()[-3:][::-1]\n",
    "\n",
    "# Retrieve the top 3 most similar poems and their similarity scores\n",
    "top_3_poems = [(data_list[i], similarities[i]) for i in top_3_indices]\n",
    "\n",
    "# Display the results\n",
    "for i, (poem, score) in enumerate(top_3_poems, 1):\n",
    "    print(f\"Top {i} Similar Poem (Score: {score}):\\n{poem}\\n\")"
   ]
  },
  {
   "cell_type": "markdown",
   "metadata": {},
   "source": [
    "## Defining the inferencing input for chat\n",
    "Foundation models supporting chat accept a system prompt that instructs the model on how to conduct the dialog. They also accept previous questions and answers to give additional context when inferencing. Each model has it's own string format for constructing the input.\n",
    "\n",
    "Let us provide the input we got from the Prompt Lab and format it for the selected model:\n"
   ]
  },
  {
   "cell_type": "code",
   "execution_count": 49,
   "metadata": {},
   "outputs": [],
   "source": [
    "prompt_input = f\"\"\"<<SYS>>\n",
    "أنت كاتب قصائد سعودي محترف ملم بالاسلوب السعودي في الشعر.\n",
    "الهدف: كتابة شعر باسلوب سعودي يتكون من ثلاثة إلى خمسة أبيات فقط، بحيث تكون الأبيات قصيرة ومباشرة، مع تجنب تكرار الأبيات أو إعادة القصيدة بأكملها بناء على العبارة المعطاة وتكون تنتهي بنفس القافية.\n",
    "اكتب قصيدة جديدة ومختصرة تتكون من ثلاثة إلى خمسة أبيات فقط، بدون أي تكرار أو إعادة للقصيدة بأكملها، ثم توقف عن الكتابة بعد إتمام القصيدة.\n",
    "<</SYS>>\n",
    "\n",
    "\"\"\"\n",
    "\n",
    "formattedQuestion = f\"\"\"[INST] \n",
    "العبارة المعطاة: \"{user_input}\"\n",
    "\n",
    "هذه الأمثلة للشعر يجب أن تكون للإلهام والاستدلال فقط، ركّز على نفس المشاعر والأسلوب، ولكن لا تكرر الأبيات نفسها ولا تستخدم أي جزء منها.\n",
    "- الشعر الأول: \"{top_3_poems[0][0]}\"\n",
    "- الشعر الثاني: \"{top_3_poems[1][0]}\"\n",
    "- الشعر الثالث: \"{top_3_poems[2][0]}\"\n",
    "[/INST]\"\"\""
   ]
  },
  {
   "cell_type": "code",
   "execution_count": 50,
   "metadata": {},
   "outputs": [
    {
     "name": "stdout",
     "output_type": "stream",
     "text": [
      "<<SYS>>\n",
      "أنت كاتب قصائد سعودي محترف ملم بالاسلوب السعودي في الشعر.\n",
      "الهدف: كتابة شعر باسلوب سعودي يتكون من ثلاثة إلى خمسة أبيات فقط، بحيث تكون الأبيات قصيرة ومباشرة، مع تجنب تكرار الأبيات أو إعادة القصيدة بأكملها بناء على العبارة المعطاة وتكون تنتهي بنفس القافية.\n",
      "اكتب قصيدة جديدة ومختصرة تتكون من ثلاثة إلى خمسة أبيات فقط، بدون أي تكرار أو إعادة للقصيدة بأكملها، ثم توقف عن الكتابة بعد إتمام القصيدة.\n",
      "<</SYS>>\n",
      "\n",
      "\n",
      "[INST] \n",
      "العبارة المعطاة: \"الليل المطر\"\n",
      "\n",
      "هذه الأمثلة للشعر يجب أن تكون للإلهام والاستدلال فقط، ركّز على نفس المشاعر والأسلوب، ولكن لا تكرر الأبيات نفسها ولا تستخدم أي جزء منها.\n",
      "- الشعر الأول: \"شاعر تِغرد جوف صدره سكاكين\n",
      "بَرْد التشرد في شوارع مدينه\n",
      "أَنْحَتْ على رمل الأماكن ذِرَاعَين\n",
      "وَاْحطب من أضغاث التمني غبينه\n",
      "صوتي تلاوة صوت في نبرة آمين\n",
      "موتي وطن سور المقابر يدينه\n",
      "صليت في مفرق دعاء المعزين\n",
      "دافي بلون أَغْمَاضَة الياسمينه\n",
      "شفني أقول : الليل حائط محبين\n",
      "شفني ألون ف الفضا لي سكينه\n",
      "أركض ورى تَكّ المطر يابس العين\n",
      "وأنفض غبار الفقد عن وجد طينه !!\n",
      "كان العطش عصفور نبت المساكين\n",
      "وأمي خشوع السجدتين الحزينه\n",
      "أعلك سواك أصحاب تبغ ورياحين\n",
      "في دفتر أوجاع القلم ظل أنينه\n",
      "الدرب تُربه سلك شائك وتخمين\n",
      "والبحر نَاسِك في شراع السفينه\n",
      "شفني أجر أذيال حلمي على وين ؟!\n",
      "ضايق أجوب الليل وأسكن عرينه\n",
      "عالق وروحي ف الحطب بين فاسين\n",
      "شف لي وطن وأغفو بحنطة حنينه\n",
      "حاصل عذوق الغيم ما جاب وافين\n",
      "والموت في بحة رجائي غبينه\n",
      "ما هي غريبة لا أنطفى فيدي اللين\n",
      "قل للورق شاعرك سافه سنينه\"\n",
      "- الشعر الثاني: \"معك ليلِ طويل وقلب تاه بهاجسك مافاق.\n",
      "وايقْض لك وجل شاعر خذته اردان ديمومة\n",
      "تمناك الشعر ليلة نزف لك في مهب فراق\n",
      "سأل سكينك البارد عن اول واخر علومه\n",
      "انا يامدلهم العكش احن بغيبتك واشتاق\n",
      "بكالك موطنٍَ يبست نخيله وانكره قومه\n",
      "ترقب لك من ايام السهر مجنونك الخفاق\n",
      "هذلُك الليل بلسان الظلام وغيبة نجومه\n",
      "من ايامك ومرباع السنين وخده الرقراق\n",
      "وعد رجال حدّته السنين وضاقت هدومه\n",
      "شكالك بوح مايمسي بدونك واشتكالك ساق\n",
      "امانيّك تبي قومة رجا متثاقل القومه\n",
      "مشاريهك على صدر تخبره مايضيق وضاق\n",
      "بقايا موطنك غصنٍ يبس واسوار مثلومه\n",
      "تناهيدك على باله وذاق من الالم ما ذاق\n",
      "يهج القلب في ضيقة مسا ..وانهاه وآلومه\n",
      "مدى. مالك مدى وانت المزون بذاكرة عشاق\n",
      "وانا خابر هدب عينك يحن ويغرق بيومه\n",
      "كثر ماطاحت اوراق الخريف وللقصيد اوراق\n",
      "عرفت البوح واشباه الاوادم عرفت همومه\n",
      "وانا مليت مسباح الملل واستاذن البراق\n",
      "يبشرني بميلاد المطر وبحفلة غيومه\n",
      "بعيد وذكرياتك ناس وانهار وحبر واشواق\n",
      "غريبة ارض مايمشي عليها ناس مزحومه\"\n",
      "- الشعر الثالث: \"معك ليلِ طويل وقلب تاه بهاجسك مافاق.\n",
      "وايقْض لك وجل شاعر خذته اردان ديمومة\n",
      "تمناك الشعر ليلة نزف لك في مهب فراق\n",
      "سأل سكينك البارد عن اول واخر علومه\n",
      "انا يامدلهم العكش احن بغيبتك واشتاق\n",
      "بكالك موطنٍَ يبست نخيله وانكره قومه\n",
      "ترقب لك من ايام السهر مجنونك الخفاق\n",
      "هذلُك الليل بلسان الظلام وغيبة نجومه\n",
      "من ايامك ومرباع السنين وخده الرقراق\n",
      "وعد رجال حدّته السنين وضاقت هدومه\n",
      "شكالك بوح مايمسي بدونك واشتكالك ساق\n",
      "امانيّك تبي قومة رجا متثاقل القومه\n",
      "مشاريهك على صدر تخبره مايضيق وضاق\n",
      "بقايا موطنك غصنٍ يبس واسوار مثلومه\n",
      "تناهيدك على باله وذاق من الالم ما ذاق\n",
      "يهج القلب في ضيقة مسا ..وانهاه وآلومه\n",
      "مدى. مالك مدى وانت المزون بذاكرة عشاق\n",
      "وانا خابر هدب عينك يحن ويغرق بيومه\n",
      "كثر ماطاحت اوراق الخريف وللقصيد اوراق\n",
      "عرفت البوح واشباه الاوادم عرفت همومه\n",
      "وانا مليت مسباح الملل واستاذن البراق\n",
      "يبشرني بميلاد المطر وبحفلة غيومه\n",
      "بعيد وذكرياتك ناس وانهار وحبر واشواق\n",
      "غريبة ارض مايمشي عليها ناس مزحومه\"\n",
      "[/INST]\n"
     ]
    }
   ],
   "source": [
    "print(prompt_input)\n",
    "print(formattedQuestion)"
   ]
  },
  {
   "cell_type": "markdown",
   "metadata": {},
   "source": [
    "## Execution\n",
    "Let us now use the defined Model object, pair it with the input, and generate the response to your question:\n"
   ]
  },
  {
   "cell_type": "code",
   "execution_count": 51,
   "metadata": {},
   "outputs": [
    {
     "name": "stdout",
     "output_type": "stream",
     "text": [
      " يا مطر اليل عانق روح عاشق حزين  \t\r\n",
      "نسمة هوا تجتاح قلبً بلا مرسى \r\n",
      "هموم واحزان تسكن وسط الضلوعين   \t\r\n",
      "والامل ضايع بوسط بحر الامنيات المرسى    \n"
     ]
    }
   ],
   "source": [
    "#question = input(\"Question: \")\n",
    "#formattedQuestion = f\"\"\"<s> [INST] {question} [/INST]\"\"\"\n",
    "prompt = f\"\"\"{prompt_input}{formattedQuestion}\"\"\"\n",
    "generated_response = model.generate_text(prompt=prompt, guardrails=False)\n",
    "print(f\"{generated_response}\")\n"
   ]
  },
  {
   "cell_type": "markdown",
   "metadata": {},
   "source": [
    "# Next steps\n",
    "You successfully completed this notebook! You learned how to use\n",
    "watsonx.ai inferencing SDK to generate response from the foundation model\n",
    "based on the provided input, model id and model parameters. Check out the\n",
    "official watsonx.ai site for more samples, tutorials, documentation, how-tos, and blog posts.\n",
    "\n",
    "<a id=\"copyrights\"></a>\n",
    "### Copyrights\n",
    "\n",
    "Licensed Materials - Copyright © 2023 IBM. This notebook and its source code are released under the terms of the ILAN License.\n",
    "Use, duplication disclosure restricted by GSA ADP Schedule Contract with IBM Corp.\n",
    "\n",
    "**Note:** The auto-generated notebooks are subject to the International License Agreement for Non-Warranted Programs (or equivalent) and License Information document for watsonx.ai Auto-generated Notebook (License Terms), such agreements located in the link below. Specifically, the Source Components and Sample Materials clause included in the License Information document for Watson Studio Auto-generated Notebook applies to the auto-generated notebooks.  \n",
    "\n",
    "By downloading, copying, accessing, or otherwise using the materials, you agree to the <a href=\"https://www14.software.ibm.com/cgi-bin/weblap/lap.pl?li_formnum=L-AMCU-BYC7LF\" target=\"_blank\">License Terms</a>  "
   ]
  },
  {
   "cell_type": "code",
   "execution_count": null,
   "metadata": {},
   "outputs": [],
   "source": []
  },
  {
   "cell_type": "code",
   "execution_count": null,
   "metadata": {},
   "outputs": [],
   "source": []
  }
 ],
 "metadata": {
  "kernelspec": {
   "display_name": "Python 3.10",
   "language": "python",
   "name": "python3"
  },
  "language_info": {
   "codemirror_mode": {
    "name": "ipython",
    "version": 3
   },
   "file_extension": ".py",
   "mimetype": "text/x-python",
   "name": "python",
   "nbconvert_exporter": "python",
   "pygments_lexer": "ipython3",
   "version": "3.10.14"
  }
 },
 "nbformat": 4,
 "nbformat_minor": 1
}
